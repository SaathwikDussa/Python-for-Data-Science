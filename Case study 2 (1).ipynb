{
 "cells": [
  {
   "cell_type": "code",
   "execution_count": 1,
   "id": "78f79e2c",
   "metadata": {},
   "outputs": [],
   "source": [
    "#import\n",
    "import numpy as np\n",
    "import pandas as pd \n",
    "import matplotlib.pyplot as plt\n",
    "import seaborn as sns"
   ]
  },
  {
   "cell_type": "code",
   "execution_count": 2,
   "id": "d80dd9a6",
   "metadata": {},
   "outputs": [],
   "source": [
    "df= pd.read_csv(\"C:/Users/SAI SAATHWIK DUSSA/OneDrive/Desktop/ass/dataset_project1/social media influencers - youtube.csv\")"
   ]
  },
  {
   "cell_type": "code",
   "execution_count": 3,
   "id": "609f2ba3",
   "metadata": {},
   "outputs": [
    {
     "data": {
      "text/html": [
       "<div>\n",
       "<style scoped>\n",
       "    .dataframe tbody tr th:only-of-type {\n",
       "        vertical-align: middle;\n",
       "    }\n",
       "\n",
       "    .dataframe tbody tr th {\n",
       "        vertical-align: top;\n",
       "    }\n",
       "\n",
       "    .dataframe thead th {\n",
       "        text-align: right;\n",
       "    }\n",
       "</style>\n",
       "<table border=\"1\" class=\"dataframe\">\n",
       "  <thead>\n",
       "    <tr style=\"text-align: right;\">\n",
       "      <th></th>\n",
       "      <th>youtuber name</th>\n",
       "      <th>channel name</th>\n",
       "      <th>Category</th>\n",
       "      <th>Subscribers</th>\n",
       "      <th>Audience Country</th>\n",
       "      <th>avg views</th>\n",
       "      <th>avg likes</th>\n",
       "      <th>avg comments</th>\n",
       "    </tr>\n",
       "  </thead>\n",
       "  <tbody>\n",
       "    <tr>\n",
       "      <th>0</th>\n",
       "      <td>tseries</td>\n",
       "      <td>T-Series</td>\n",
       "      <td>Music &amp; Dance</td>\n",
       "      <td>212.1M</td>\n",
       "      <td>India</td>\n",
       "      <td>323.7K</td>\n",
       "      <td>9.8K</td>\n",
       "      <td>290</td>\n",
       "    </tr>\n",
       "    <tr>\n",
       "      <th>1</th>\n",
       "      <td>checkgate</td>\n",
       "      <td>Cocomelon - Nursery Rhymes</td>\n",
       "      <td>Education</td>\n",
       "      <td>132.1M</td>\n",
       "      <td>NaN</td>\n",
       "      <td>13.8M</td>\n",
       "      <td>80.9K</td>\n",
       "      <td>NaN</td>\n",
       "    </tr>\n",
       "    <tr>\n",
       "      <th>2</th>\n",
       "      <td>setindia</td>\n",
       "      <td>SET India</td>\n",
       "      <td>NaN</td>\n",
       "      <td>130.4M</td>\n",
       "      <td>India</td>\n",
       "      <td>23.6K</td>\n",
       "      <td>314</td>\n",
       "      <td>21</td>\n",
       "    </tr>\n",
       "    <tr>\n",
       "      <th>3</th>\n",
       "      <td>PewDiePie</td>\n",
       "      <td>PewDiePie</td>\n",
       "      <td>Animation</td>\n",
       "      <td>111.4M</td>\n",
       "      <td>United States</td>\n",
       "      <td>1.4M</td>\n",
       "      <td>80.8K</td>\n",
       "      <td>4.6K</td>\n",
       "    </tr>\n",
       "    <tr>\n",
       "      <th>4</th>\n",
       "      <td>MrBeast6000</td>\n",
       "      <td>MrBeast</td>\n",
       "      <td>Video games</td>\n",
       "      <td>92.5M</td>\n",
       "      <td>United States</td>\n",
       "      <td>30.6M</td>\n",
       "      <td>1.7M</td>\n",
       "      <td>67.7K</td>\n",
       "    </tr>\n",
       "    <tr>\n",
       "      <th>...</th>\n",
       "      <td>...</td>\n",
       "      <td>...</td>\n",
       "      <td>...</td>\n",
       "      <td>...</td>\n",
       "      <td>...</td>\n",
       "      <td>...</td>\n",
       "      <td>...</td>\n",
       "      <td>...</td>\n",
       "    </tr>\n",
       "    <tr>\n",
       "      <th>995</th>\n",
       "      <td>FutParódias</td>\n",
       "      <td>FutParódias</td>\n",
       "      <td>Music &amp; Dance</td>\n",
       "      <td>9.2M</td>\n",
       "      <td>Brazil</td>\n",
       "      <td>1.4M</td>\n",
       "      <td>110.1K</td>\n",
       "      <td>2.5K</td>\n",
       "    </tr>\n",
       "    <tr>\n",
       "      <th>996</th>\n",
       "      <td>EL GATO</td>\n",
       "      <td>EL GATO</td>\n",
       "      <td>Toys</td>\n",
       "      <td>9.2M</td>\n",
       "      <td>Brazil</td>\n",
       "      <td>243.8K</td>\n",
       "      <td>30.7K</td>\n",
       "      <td>636</td>\n",
       "    </tr>\n",
       "    <tr>\n",
       "      <th>997</th>\n",
       "      <td>CinemaSins</td>\n",
       "      <td>CinemaSins</td>\n",
       "      <td>Movies</td>\n",
       "      <td>9.2M</td>\n",
       "      <td>United States</td>\n",
       "      <td>296K</td>\n",
       "      <td>10.2K</td>\n",
       "      <td>874</td>\n",
       "    </tr>\n",
       "    <tr>\n",
       "      <th>998</th>\n",
       "      <td>CricketICC</td>\n",
       "      <td>ICC</td>\n",
       "      <td>Sports</td>\n",
       "      <td>9.2M</td>\n",
       "      <td>India</td>\n",
       "      <td>15.2K</td>\n",
       "      <td>854</td>\n",
       "      <td>58</td>\n",
       "    </tr>\n",
       "    <tr>\n",
       "      <th>999</th>\n",
       "      <td>BRKsEDU</td>\n",
       "      <td>BRKsEDU</td>\n",
       "      <td>Animation</td>\n",
       "      <td>9.2M</td>\n",
       "      <td>Brazil</td>\n",
       "      <td>112.3K</td>\n",
       "      <td>9.8K</td>\n",
       "      <td>246</td>\n",
       "    </tr>\n",
       "  </tbody>\n",
       "</table>\n",
       "<p>1000 rows × 8 columns</p>\n",
       "</div>"
      ],
      "text/plain": [
       "    youtuber name                channel name       Category Subscribers  \\\n",
       "0         tseries                    T-Series  Music & Dance      212.1M   \n",
       "1       checkgate  Cocomelon - Nursery Rhymes      Education      132.1M   \n",
       "2        setindia                   SET India            NaN      130.4M   \n",
       "3       PewDiePie                   PewDiePie      Animation      111.4M   \n",
       "4     MrBeast6000                     MrBeast    Video games       92.5M   \n",
       "..            ...                         ...            ...         ...   \n",
       "995   FutParódias                 FutParódias  Music & Dance        9.2M   \n",
       "996       EL GATO                     EL GATO           Toys        9.2M   \n",
       "997    CinemaSins                  CinemaSins         Movies        9.2M   \n",
       "998    CricketICC                         ICC         Sports        9.2M   \n",
       "999       BRKsEDU                     BRKsEDU      Animation        9.2M   \n",
       "\n",
       "    Audience Country avg views avg likes avg comments  \n",
       "0              India    323.7K      9.8K          290  \n",
       "1                NaN     13.8M     80.9K          NaN  \n",
       "2              India     23.6K       314           21  \n",
       "3      United States      1.4M     80.8K         4.6K  \n",
       "4      United States     30.6M      1.7M        67.7K  \n",
       "..               ...       ...       ...          ...  \n",
       "995           Brazil      1.4M    110.1K         2.5K  \n",
       "996           Brazil    243.8K     30.7K          636  \n",
       "997    United States      296K     10.2K          874  \n",
       "998            India     15.2K       854           58  \n",
       "999           Brazil    112.3K      9.8K          246  \n",
       "\n",
       "[1000 rows x 8 columns]"
      ]
     },
     "execution_count": 3,
     "metadata": {},
     "output_type": "execute_result"
    }
   ],
   "source": [
    "df"
   ]
  },
  {
   "cell_type": "code",
   "execution_count": 4,
   "id": "09e94a42",
   "metadata": {},
   "outputs": [
    {
     "data": {
      "text/plain": [
       "(1000, 8)"
      ]
     },
     "execution_count": 4,
     "metadata": {},
     "output_type": "execute_result"
    }
   ],
   "source": [
    "df.shape"
   ]
  },
  {
   "cell_type": "markdown",
   "id": "0452e130",
   "metadata": {},
   "source": [
    "#                           DATA CLEANING\n"
   ]
  },
  {
   "cell_type": "code",
   "execution_count": 5,
   "id": "d72c1f71",
   "metadata": {},
   "outputs": [
    {
     "name": "stdout",
     "output_type": "stream",
     "text": [
      "<class 'pandas.core.frame.DataFrame'>\n",
      "RangeIndex: 1000 entries, 0 to 999\n",
      "Data columns (total 8 columns):\n",
      " #   Column            Non-Null Count  Dtype \n",
      "---  ------            --------------  ----- \n",
      " 0   youtuber name     1000 non-null   object\n",
      " 1   channel name      1000 non-null   object\n",
      " 2   Category          723 non-null    object\n",
      " 3   Subscribers       1000 non-null   object\n",
      " 4   Audience Country  839 non-null    object\n",
      " 5   avg views         1000 non-null   object\n",
      " 6   avg likes         962 non-null    object\n",
      " 7   avg comments      791 non-null    object\n",
      "dtypes: object(8)\n",
      "memory usage: 62.6+ KB\n"
     ]
    }
   ],
   "source": [
    "df.info()"
   ]
  },
  {
   "cell_type": "code",
   "execution_count": 6,
   "id": "8ef98e6a",
   "metadata": {},
   "outputs": [
    {
     "data": {
      "text/html": [
       "<div>\n",
       "<style scoped>\n",
       "    .dataframe tbody tr th:only-of-type {\n",
       "        vertical-align: middle;\n",
       "    }\n",
       "\n",
       "    .dataframe tbody tr th {\n",
       "        vertical-align: top;\n",
       "    }\n",
       "\n",
       "    .dataframe thead th {\n",
       "        text-align: right;\n",
       "    }\n",
       "</style>\n",
       "<table border=\"1\" class=\"dataframe\">\n",
       "  <thead>\n",
       "    <tr style=\"text-align: right;\">\n",
       "      <th></th>\n",
       "      <th>youtuber name</th>\n",
       "      <th>channel name</th>\n",
       "      <th>Category</th>\n",
       "      <th>Subscribers</th>\n",
       "      <th>Audience Country</th>\n",
       "      <th>avg views</th>\n",
       "      <th>avg likes</th>\n",
       "      <th>avg comments</th>\n",
       "    </tr>\n",
       "  </thead>\n",
       "  <tbody>\n",
       "    <tr>\n",
       "      <th>0</th>\n",
       "      <td>tseries</td>\n",
       "      <td>T-Series</td>\n",
       "      <td>Music &amp; Dance</td>\n",
       "      <td>212.1M</td>\n",
       "      <td>India</td>\n",
       "      <td>323.7K</td>\n",
       "      <td>9.8K</td>\n",
       "      <td>290</td>\n",
       "    </tr>\n",
       "    <tr>\n",
       "      <th>1</th>\n",
       "      <td>checkgate</td>\n",
       "      <td>Cocomelon - Nursery Rhymes</td>\n",
       "      <td>Education</td>\n",
       "      <td>132.1M</td>\n",
       "      <td>NaN</td>\n",
       "      <td>13.8M</td>\n",
       "      <td>80.9K</td>\n",
       "      <td>NaN</td>\n",
       "    </tr>\n",
       "    <tr>\n",
       "      <th>2</th>\n",
       "      <td>setindia</td>\n",
       "      <td>SET India</td>\n",
       "      <td>NaN</td>\n",
       "      <td>130.4M</td>\n",
       "      <td>India</td>\n",
       "      <td>23.6K</td>\n",
       "      <td>314</td>\n",
       "      <td>21</td>\n",
       "    </tr>\n",
       "    <tr>\n",
       "      <th>3</th>\n",
       "      <td>PewDiePie</td>\n",
       "      <td>PewDiePie</td>\n",
       "      <td>Animation</td>\n",
       "      <td>111.4M</td>\n",
       "      <td>United States</td>\n",
       "      <td>1.4M</td>\n",
       "      <td>80.8K</td>\n",
       "      <td>4.6K</td>\n",
       "    </tr>\n",
       "    <tr>\n",
       "      <th>4</th>\n",
       "      <td>MrBeast6000</td>\n",
       "      <td>MrBeast</td>\n",
       "      <td>Video games</td>\n",
       "      <td>92.5M</td>\n",
       "      <td>United States</td>\n",
       "      <td>30.6M</td>\n",
       "      <td>1.7M</td>\n",
       "      <td>67.7K</td>\n",
       "    </tr>\n",
       "    <tr>\n",
       "      <th>5</th>\n",
       "      <td>✿ Kids Diana Show</td>\n",
       "      <td>✿ Kids Diana Show</td>\n",
       "      <td>Animation</td>\n",
       "      <td>92.4M</td>\n",
       "      <td>NaN</td>\n",
       "      <td>10.6M</td>\n",
       "      <td>46.8K</td>\n",
       "      <td>NaN</td>\n",
       "    </tr>\n",
       "    <tr>\n",
       "      <th>6</th>\n",
       "      <td>Like Nastya</td>\n",
       "      <td>Like Nastya</td>\n",
       "      <td>Animation</td>\n",
       "      <td>90.1M</td>\n",
       "      <td>NaN</td>\n",
       "      <td>13.7M</td>\n",
       "      <td>74.2K</td>\n",
       "      <td>NaN</td>\n",
       "    </tr>\n",
       "    <tr>\n",
       "      <th>7</th>\n",
       "      <td>WWEFanNation</td>\n",
       "      <td>WWE</td>\n",
       "      <td>Video games</td>\n",
       "      <td>86.9M</td>\n",
       "      <td>United States</td>\n",
       "      <td>76.6K</td>\n",
       "      <td>2.8K</td>\n",
       "      <td>163</td>\n",
       "    </tr>\n",
       "    <tr>\n",
       "      <th>8</th>\n",
       "      <td>zeemusiccompany</td>\n",
       "      <td>Zee Music Company</td>\n",
       "      <td>Music &amp; Dance</td>\n",
       "      <td>82.7M</td>\n",
       "      <td>India</td>\n",
       "      <td>108.7K</td>\n",
       "      <td>4.2K</td>\n",
       "      <td>155</td>\n",
       "    </tr>\n",
       "    <tr>\n",
       "      <th>9</th>\n",
       "      <td>Vlad and Niki</td>\n",
       "      <td>Vlad and Niki</td>\n",
       "      <td>Toys</td>\n",
       "      <td>80.4M</td>\n",
       "      <td>NaN</td>\n",
       "      <td>7M</td>\n",
       "      <td>42.2K</td>\n",
       "      <td>NaN</td>\n",
       "    </tr>\n",
       "  </tbody>\n",
       "</table>\n",
       "</div>"
      ],
      "text/plain": [
       "       youtuber name                channel name       Category Subscribers  \\\n",
       "0            tseries                    T-Series  Music & Dance      212.1M   \n",
       "1          checkgate  Cocomelon - Nursery Rhymes      Education      132.1M   \n",
       "2           setindia                   SET India            NaN      130.4M   \n",
       "3          PewDiePie                   PewDiePie      Animation      111.4M   \n",
       "4        MrBeast6000                     MrBeast    Video games       92.5M   \n",
       "5  ✿ Kids Diana Show           ✿ Kids Diana Show      Animation       92.4M   \n",
       "6        Like Nastya                 Like Nastya      Animation       90.1M   \n",
       "7       WWEFanNation                         WWE    Video games       86.9M   \n",
       "8    zeemusiccompany           Zee Music Company  Music & Dance       82.7M   \n",
       "9      Vlad and Niki               Vlad and Niki           Toys       80.4M   \n",
       "\n",
       "  Audience Country avg views avg likes avg comments  \n",
       "0            India    323.7K      9.8K          290  \n",
       "1              NaN     13.8M     80.9K          NaN  \n",
       "2            India     23.6K       314           21  \n",
       "3    United States      1.4M     80.8K         4.6K  \n",
       "4    United States     30.6M      1.7M        67.7K  \n",
       "5              NaN     10.6M     46.8K          NaN  \n",
       "6              NaN     13.7M     74.2K          NaN  \n",
       "7    United States     76.6K      2.8K          163  \n",
       "8            India    108.7K      4.2K          155  \n",
       "9              NaN        7M     42.2K          NaN  "
      ]
     },
     "execution_count": 6,
     "metadata": {},
     "output_type": "execute_result"
    }
   ],
   "source": [
    "df.head(10)"
   ]
  },
  {
   "cell_type": "code",
   "execution_count": 7,
   "id": "616ec53c",
   "metadata": {},
   "outputs": [
    {
     "data": {
      "text/plain": [
       "Music & Dance           224\n",
       "Animation                97\n",
       "Video games              84\n",
       "News & Politics          49\n",
       "Toys                     45\n",
       "Movies                   38\n",
       "Daily vlogs              35\n",
       "Education                33\n",
       "Humor                    30\n",
       "Science & Technology     17\n",
       "Food & Drinks            16\n",
       "DIY & Life Hacks         15\n",
       "Sports                   11\n",
       "Fashion                   7\n",
       "Animals & Pets            4\n",
       "Design/art                4\n",
       "Fitness                   3\n",
       "ASMR                      3\n",
       "Health & Self Help        2\n",
       "Autos & Vehicles          2\n",
       "Beauty                    2\n",
       "Mystery                   1\n",
       "Travel                    1\n",
       "Name: Category, dtype: int64"
      ]
     },
     "execution_count": 7,
     "metadata": {},
     "output_type": "execute_result"
    }
   ],
   "source": [
    "df['Category'].value_counts()"
   ]
  },
  {
   "cell_type": "code",
   "execution_count": 8,
   "id": "a641204f",
   "metadata": {},
   "outputs": [],
   "source": [
    "## Here we will replace the null with unknowns since 277 unknowns and mode is 224 only."
   ]
  },
  {
   "cell_type": "code",
   "execution_count": 9,
   "id": "dc2e1054",
   "metadata": {},
   "outputs": [],
   "source": [
    "df[\"Category\"].fillna((\"unknown\"),inplace=True)"
   ]
  },
  {
   "cell_type": "code",
   "execution_count": 10,
   "id": "be23ab5e",
   "metadata": {},
   "outputs": [
    {
     "name": "stdout",
     "output_type": "stream",
     "text": [
      "<class 'pandas.core.frame.DataFrame'>\n",
      "RangeIndex: 1000 entries, 0 to 999\n",
      "Data columns (total 8 columns):\n",
      " #   Column            Non-Null Count  Dtype \n",
      "---  ------            --------------  ----- \n",
      " 0   youtuber name     1000 non-null   object\n",
      " 1   channel name      1000 non-null   object\n",
      " 2   Category          1000 non-null   object\n",
      " 3   Subscribers       1000 non-null   object\n",
      " 4   Audience Country  839 non-null    object\n",
      " 5   avg views         1000 non-null   object\n",
      " 6   avg likes         962 non-null    object\n",
      " 7   avg comments      791 non-null    object\n",
      "dtypes: object(8)\n",
      "memory usage: 62.6+ KB\n"
     ]
    }
   ],
   "source": [
    "df.info()"
   ]
  },
  {
   "cell_type": "code",
   "execution_count": 11,
   "id": "f413e252",
   "metadata": {},
   "outputs": [
    {
     "data": {
      "text/html": [
       "<div>\n",
       "<style scoped>\n",
       "    .dataframe tbody tr th:only-of-type {\n",
       "        vertical-align: middle;\n",
       "    }\n",
       "\n",
       "    .dataframe tbody tr th {\n",
       "        vertical-align: top;\n",
       "    }\n",
       "\n",
       "    .dataframe thead th {\n",
       "        text-align: right;\n",
       "    }\n",
       "</style>\n",
       "<table border=\"1\" class=\"dataframe\">\n",
       "  <thead>\n",
       "    <tr style=\"text-align: right;\">\n",
       "      <th></th>\n",
       "      <th>youtuber name</th>\n",
       "      <th>channel name</th>\n",
       "      <th>Category</th>\n",
       "      <th>Subscribers</th>\n",
       "      <th>Audience Country</th>\n",
       "      <th>avg views</th>\n",
       "      <th>avg likes</th>\n",
       "      <th>avg comments</th>\n",
       "    </tr>\n",
       "  </thead>\n",
       "  <tbody>\n",
       "    <tr>\n",
       "      <th>0</th>\n",
       "      <td>tseries</td>\n",
       "      <td>T-Series</td>\n",
       "      <td>Music &amp; Dance</td>\n",
       "      <td>212.1M</td>\n",
       "      <td>India</td>\n",
       "      <td>323.7K</td>\n",
       "      <td>9.8K</td>\n",
       "      <td>290</td>\n",
       "    </tr>\n",
       "    <tr>\n",
       "      <th>1</th>\n",
       "      <td>checkgate</td>\n",
       "      <td>Cocomelon - Nursery Rhymes</td>\n",
       "      <td>Education</td>\n",
       "      <td>132.1M</td>\n",
       "      <td>NaN</td>\n",
       "      <td>13.8M</td>\n",
       "      <td>80.9K</td>\n",
       "      <td>NaN</td>\n",
       "    </tr>\n",
       "    <tr>\n",
       "      <th>2</th>\n",
       "      <td>setindia</td>\n",
       "      <td>SET India</td>\n",
       "      <td>unknown</td>\n",
       "      <td>130.4M</td>\n",
       "      <td>India</td>\n",
       "      <td>23.6K</td>\n",
       "      <td>314</td>\n",
       "      <td>21</td>\n",
       "    </tr>\n",
       "    <tr>\n",
       "      <th>3</th>\n",
       "      <td>PewDiePie</td>\n",
       "      <td>PewDiePie</td>\n",
       "      <td>Animation</td>\n",
       "      <td>111.4M</td>\n",
       "      <td>United States</td>\n",
       "      <td>1.4M</td>\n",
       "      <td>80.8K</td>\n",
       "      <td>4.6K</td>\n",
       "    </tr>\n",
       "    <tr>\n",
       "      <th>4</th>\n",
       "      <td>MrBeast6000</td>\n",
       "      <td>MrBeast</td>\n",
       "      <td>Video games</td>\n",
       "      <td>92.5M</td>\n",
       "      <td>United States</td>\n",
       "      <td>30.6M</td>\n",
       "      <td>1.7M</td>\n",
       "      <td>67.7K</td>\n",
       "    </tr>\n",
       "  </tbody>\n",
       "</table>\n",
       "</div>"
      ],
      "text/plain": [
       "  youtuber name                channel name       Category Subscribers  \\\n",
       "0       tseries                    T-Series  Music & Dance      212.1M   \n",
       "1     checkgate  Cocomelon - Nursery Rhymes      Education      132.1M   \n",
       "2      setindia                   SET India        unknown      130.4M   \n",
       "3     PewDiePie                   PewDiePie      Animation      111.4M   \n",
       "4   MrBeast6000                     MrBeast    Video games       92.5M   \n",
       "\n",
       "  Audience Country avg views avg likes avg comments  \n",
       "0            India    323.7K      9.8K          290  \n",
       "1              NaN     13.8M     80.9K          NaN  \n",
       "2            India     23.6K       314           21  \n",
       "3    United States      1.4M     80.8K         4.6K  \n",
       "4    United States     30.6M      1.7M        67.7K  "
      ]
     },
     "execution_count": 11,
     "metadata": {},
     "output_type": "execute_result"
    }
   ],
   "source": [
    "df.head(5)"
   ]
  },
  {
   "cell_type": "code",
   "execution_count": 12,
   "id": "97c615b4",
   "metadata": {},
   "outputs": [
    {
     "data": {
      "text/plain": [
       "United States     291\n",
       "India             208\n",
       "Brazil             92\n",
       "Mexico             64\n",
       "Indonesia          38\n",
       "Russia             33\n",
       "Thailand           18\n",
       "Philippines        16\n",
       "Colombia           10\n",
       "Iraq               10\n",
       "Egypt               8\n",
       "Argentina           7\n",
       "Pakistan            6\n",
       "United Kingdom      5\n",
       "Saudi Arabia        5\n",
       "Spain               5\n",
       "Bangladesh          3\n",
       "Japan               3\n",
       "France              3\n",
       "Algeria             3\n",
       "Turkey              3\n",
       "Peru                2\n",
       "Morocco             2\n",
       "Ecuador             1\n",
       "Poland              1\n",
       "Singapore           1\n",
       "Cyprus              1\n",
       "Name: Audience Country, dtype: int64"
      ]
     },
     "execution_count": 12,
     "metadata": {},
     "output_type": "execute_result"
    }
   ],
   "source": [
    "df[\"Audience Country\"].value_counts()"
   ]
  },
  {
   "cell_type": "code",
   "execution_count": 13,
   "id": "f02ec5bb",
   "metadata": {},
   "outputs": [],
   "source": [
    "## replace unkown countries with unknown value"
   ]
  },
  {
   "cell_type": "code",
   "execution_count": 14,
   "id": "c0f3474e",
   "metadata": {},
   "outputs": [],
   "source": [
    "df[\"Audience Country\"].fillna((\"unknown\"),inplace=True)"
   ]
  },
  {
   "cell_type": "code",
   "execution_count": 15,
   "id": "6ae91f4a",
   "metadata": {},
   "outputs": [
    {
     "name": "stdout",
     "output_type": "stream",
     "text": [
      "<class 'pandas.core.frame.DataFrame'>\n",
      "RangeIndex: 1000 entries, 0 to 999\n",
      "Data columns (total 8 columns):\n",
      " #   Column            Non-Null Count  Dtype \n",
      "---  ------            --------------  ----- \n",
      " 0   youtuber name     1000 non-null   object\n",
      " 1   channel name      1000 non-null   object\n",
      " 2   Category          1000 non-null   object\n",
      " 3   Subscribers       1000 non-null   object\n",
      " 4   Audience Country  1000 non-null   object\n",
      " 5   avg views         1000 non-null   object\n",
      " 6   avg likes         962 non-null    object\n",
      " 7   avg comments      791 non-null    object\n",
      "dtypes: object(8)\n",
      "memory usage: 62.6+ KB\n"
     ]
    }
   ],
   "source": [
    "df.info()"
   ]
  },
  {
   "cell_type": "code",
   "execution_count": 16,
   "id": "97b01471",
   "metadata": {},
   "outputs": [],
   "source": [
    "### Remove K and M "
   ]
  },
  {
   "cell_type": "code",
   "execution_count": 17,
   "id": "e2ca7abb",
   "metadata": {},
   "outputs": [],
   "source": [
    "def converting_to_int(value):\n",
    "    try:\n",
    "        suffix = value[-1]\n",
    "        if suffix == 'M':\n",
    "            factor = 1000000\n",
    "        elif suffix == 'K':\n",
    "            factor = 1000\n",
    "        else:\n",
    "            return value\n",
    "        return int(float(value[:-1]) * factor)\n",
    "    except:\n",
    "        return value"
   ]
  },
  {
   "cell_type": "code",
   "execution_count": 18,
   "id": "ee2e9804",
   "metadata": {},
   "outputs": [],
   "source": [
    "df[\"avg likes\"]=df[\"avg likes\"].apply(converting_to_int)"
   ]
  },
  {
   "cell_type": "code",
   "execution_count": 19,
   "id": "1687890d",
   "metadata": {},
   "outputs": [
    {
     "data": {
      "text/plain": [
       "0         9800\n",
       "1        80900\n",
       "2          314\n",
       "3        80800\n",
       "4      1700000\n",
       "        ...   \n",
       "995     110100\n",
       "996      30700\n",
       "997      10200\n",
       "998        854\n",
       "999       9800\n",
       "Name: avg likes, Length: 1000, dtype: object"
      ]
     },
     "execution_count": 19,
     "metadata": {},
     "output_type": "execute_result"
    }
   ],
   "source": [
    "df[\"avg likes\"]"
   ]
  },
  {
   "cell_type": "code",
   "execution_count": 20,
   "id": "3663d5cf",
   "metadata": {},
   "outputs": [],
   "source": [
    "df[\"avg views\"]=df[\"avg views\"].apply(converting_to_int)"
   ]
  },
  {
   "cell_type": "code",
   "execution_count": 21,
   "id": "4d8eb711",
   "metadata": {},
   "outputs": [],
   "source": [
    "df[\"avg comments\"]=df[\"avg comments\"].apply(converting_to_int)"
   ]
  },
  {
   "cell_type": "code",
   "execution_count": 22,
   "id": "96ae7a08",
   "metadata": {},
   "outputs": [],
   "source": [
    "df[\"Subscribers\"]=df[\"Subscribers\"].apply(converting_to_int)"
   ]
  },
  {
   "cell_type": "code",
   "execution_count": 23,
   "id": "f42b974d",
   "metadata": {},
   "outputs": [
    {
     "data": {
      "text/html": [
       "<div>\n",
       "<style scoped>\n",
       "    .dataframe tbody tr th:only-of-type {\n",
       "        vertical-align: middle;\n",
       "    }\n",
       "\n",
       "    .dataframe tbody tr th {\n",
       "        vertical-align: top;\n",
       "    }\n",
       "\n",
       "    .dataframe thead th {\n",
       "        text-align: right;\n",
       "    }\n",
       "</style>\n",
       "<table border=\"1\" class=\"dataframe\">\n",
       "  <thead>\n",
       "    <tr style=\"text-align: right;\">\n",
       "      <th></th>\n",
       "      <th>youtuber name</th>\n",
       "      <th>channel name</th>\n",
       "      <th>Category</th>\n",
       "      <th>Subscribers</th>\n",
       "      <th>Audience Country</th>\n",
       "      <th>avg views</th>\n",
       "      <th>avg likes</th>\n",
       "      <th>avg comments</th>\n",
       "    </tr>\n",
       "  </thead>\n",
       "  <tbody>\n",
       "    <tr>\n",
       "      <th>0</th>\n",
       "      <td>tseries</td>\n",
       "      <td>T-Series</td>\n",
       "      <td>Music &amp; Dance</td>\n",
       "      <td>212100000</td>\n",
       "      <td>India</td>\n",
       "      <td>323700</td>\n",
       "      <td>9800</td>\n",
       "      <td>290</td>\n",
       "    </tr>\n",
       "    <tr>\n",
       "      <th>1</th>\n",
       "      <td>checkgate</td>\n",
       "      <td>Cocomelon - Nursery Rhymes</td>\n",
       "      <td>Education</td>\n",
       "      <td>132100000</td>\n",
       "      <td>unknown</td>\n",
       "      <td>13800000</td>\n",
       "      <td>80900</td>\n",
       "      <td>NaN</td>\n",
       "    </tr>\n",
       "    <tr>\n",
       "      <th>2</th>\n",
       "      <td>setindia</td>\n",
       "      <td>SET India</td>\n",
       "      <td>unknown</td>\n",
       "      <td>130400000</td>\n",
       "      <td>India</td>\n",
       "      <td>23600</td>\n",
       "      <td>314</td>\n",
       "      <td>21</td>\n",
       "    </tr>\n",
       "    <tr>\n",
       "      <th>3</th>\n",
       "      <td>PewDiePie</td>\n",
       "      <td>PewDiePie</td>\n",
       "      <td>Animation</td>\n",
       "      <td>111400000</td>\n",
       "      <td>United States</td>\n",
       "      <td>1400000</td>\n",
       "      <td>80800</td>\n",
       "      <td>4600</td>\n",
       "    </tr>\n",
       "    <tr>\n",
       "      <th>4</th>\n",
       "      <td>MrBeast6000</td>\n",
       "      <td>MrBeast</td>\n",
       "      <td>Video games</td>\n",
       "      <td>92500000</td>\n",
       "      <td>United States</td>\n",
       "      <td>30600000</td>\n",
       "      <td>1700000</td>\n",
       "      <td>67700</td>\n",
       "    </tr>\n",
       "  </tbody>\n",
       "</table>\n",
       "</div>"
      ],
      "text/plain": [
       "  youtuber name                channel name       Category  Subscribers  \\\n",
       "0       tseries                    T-Series  Music & Dance    212100000   \n",
       "1     checkgate  Cocomelon - Nursery Rhymes      Education    132100000   \n",
       "2      setindia                   SET India        unknown    130400000   \n",
       "3     PewDiePie                   PewDiePie      Animation    111400000   \n",
       "4   MrBeast6000                     MrBeast    Video games     92500000   \n",
       "\n",
       "  Audience Country avg views avg likes avg comments  \n",
       "0            India    323700      9800          290  \n",
       "1          unknown  13800000     80900          NaN  \n",
       "2            India     23600       314           21  \n",
       "3    United States   1400000     80800         4600  \n",
       "4    United States  30600000   1700000        67700  "
      ]
     },
     "execution_count": 23,
     "metadata": {},
     "output_type": "execute_result"
    }
   ],
   "source": [
    "df.head()"
   ]
  },
  {
   "cell_type": "code",
   "execution_count": 24,
   "id": "74e64983",
   "metadata": {},
   "outputs": [],
   "source": [
    "### Converting them to Numeric"
   ]
  },
  {
   "cell_type": "code",
   "execution_count": 25,
   "id": "617ef1cd",
   "metadata": {},
   "outputs": [],
   "source": [
    "df['Subscribers'] = pd.to_numeric(df['Subscribers'])"
   ]
  },
  {
   "cell_type": "code",
   "execution_count": 26,
   "id": "d4848ac4",
   "metadata": {},
   "outputs": [],
   "source": [
    "df['avg views'] = pd.to_numeric(df['avg views'])"
   ]
  },
  {
   "cell_type": "code",
   "execution_count": 27,
   "id": "67bbd955",
   "metadata": {},
   "outputs": [],
   "source": [
    "df['avg comments'] = pd.to_numeric(df['avg comments'])"
   ]
  },
  {
   "cell_type": "code",
   "execution_count": 28,
   "id": "3ec31f02",
   "metadata": {},
   "outputs": [],
   "source": [
    "df['avg likes'] = pd.to_numeric(df['avg likes'])"
   ]
  },
  {
   "cell_type": "code",
   "execution_count": 29,
   "id": "715b0e42",
   "metadata": {},
   "outputs": [
    {
     "name": "stdout",
     "output_type": "stream",
     "text": [
      "<class 'pandas.core.frame.DataFrame'>\n",
      "RangeIndex: 1000 entries, 0 to 999\n",
      "Data columns (total 8 columns):\n",
      " #   Column            Non-Null Count  Dtype  \n",
      "---  ------            --------------  -----  \n",
      " 0   youtuber name     1000 non-null   object \n",
      " 1   channel name      1000 non-null   object \n",
      " 2   Category          1000 non-null   object \n",
      " 3   Subscribers       1000 non-null   int64  \n",
      " 4   Audience Country  1000 non-null   object \n",
      " 5   avg views         1000 non-null   int64  \n",
      " 6   avg likes         962 non-null    float64\n",
      " 7   avg comments      791 non-null    float64\n",
      "dtypes: float64(2), int64(2), object(4)\n",
      "memory usage: 62.6+ KB\n"
     ]
    }
   ],
   "source": [
    "df.info()"
   ]
  },
  {
   "cell_type": "code",
   "execution_count": 30,
   "id": "b281f0f7",
   "metadata": {},
   "outputs": [
    {
     "data": {
      "text/html": [
       "<div>\n",
       "<style scoped>\n",
       "    .dataframe tbody tr th:only-of-type {\n",
       "        vertical-align: middle;\n",
       "    }\n",
       "\n",
       "    .dataframe tbody tr th {\n",
       "        vertical-align: top;\n",
       "    }\n",
       "\n",
       "    .dataframe thead th {\n",
       "        text-align: right;\n",
       "    }\n",
       "</style>\n",
       "<table border=\"1\" class=\"dataframe\">\n",
       "  <thead>\n",
       "    <tr style=\"text-align: right;\">\n",
       "      <th></th>\n",
       "      <th>count</th>\n",
       "      <th>mean</th>\n",
       "      <th>std</th>\n",
       "      <th>min</th>\n",
       "      <th>25%</th>\n",
       "      <th>50%</th>\n",
       "      <th>75%</th>\n",
       "      <th>max</th>\n",
       "    </tr>\n",
       "  </thead>\n",
       "  <tbody>\n",
       "    <tr>\n",
       "      <th>Subscribers</th>\n",
       "      <td>1000.0</td>\n",
       "      <td>1.740430e+07</td>\n",
       "      <td>1.380312e+07</td>\n",
       "      <td>9200000.0</td>\n",
       "      <td>10700000.0</td>\n",
       "      <td>13250000.0</td>\n",
       "      <td>18250000.0</td>\n",
       "      <td>212100000.0</td>\n",
       "    </tr>\n",
       "    <tr>\n",
       "      <th>avg views</th>\n",
       "      <td>1000.0</td>\n",
       "      <td>1.102656e+06</td>\n",
       "      <td>3.438304e+06</td>\n",
       "      <td>0.0</td>\n",
       "      <td>54700.0</td>\n",
       "      <td>267250.0</td>\n",
       "      <td>928200.0</td>\n",
       "      <td>80500000.0</td>\n",
       "    </tr>\n",
       "    <tr>\n",
       "      <th>avg likes</th>\n",
       "      <td>962.0</td>\n",
       "      <td>5.210980e+04</td>\n",
       "      <td>2.152828e+05</td>\n",
       "      <td>5.0</td>\n",
       "      <td>1200.0</td>\n",
       "      <td>5850.0</td>\n",
       "      <td>39675.0</td>\n",
       "      <td>5600000.0</td>\n",
       "    </tr>\n",
       "    <tr>\n",
       "      <th>avg comments</th>\n",
       "      <td>791.0</td>\n",
       "      <td>3.348898e+03</td>\n",
       "      <td>1.527704e+04</td>\n",
       "      <td>1.0</td>\n",
       "      <td>61.0</td>\n",
       "      <td>336.0</td>\n",
       "      <td>1800.0</td>\n",
       "      <td>313600.0</td>\n",
       "    </tr>\n",
       "  </tbody>\n",
       "</table>\n",
       "</div>"
      ],
      "text/plain": [
       "               count          mean           std        min         25%  \\\n",
       "Subscribers   1000.0  1.740430e+07  1.380312e+07  9200000.0  10700000.0   \n",
       "avg views     1000.0  1.102656e+06  3.438304e+06        0.0     54700.0   \n",
       "avg likes      962.0  5.210980e+04  2.152828e+05        5.0      1200.0   \n",
       "avg comments   791.0  3.348898e+03  1.527704e+04        1.0        61.0   \n",
       "\n",
       "                     50%         75%          max  \n",
       "Subscribers   13250000.0  18250000.0  212100000.0  \n",
       "avg views       267250.0    928200.0   80500000.0  \n",
       "avg likes         5850.0     39675.0    5600000.0  \n",
       "avg comments       336.0      1800.0     313600.0  "
      ]
     },
     "execution_count": 30,
     "metadata": {},
     "output_type": "execute_result"
    }
   ],
   "source": [
    "df.describe().T"
   ]
  },
  {
   "cell_type": "code",
   "execution_count": 31,
   "id": "9cb79a16",
   "metadata": {},
   "outputs": [
    {
     "data": {
      "image/png": "[encoded data removed]",
      "text/plain": [
       "<Figure size 600x600 with 1 Axes>"
      ]
     },
     "metadata": {},
     "output_type": "display_data"
    }
   ],
   "source": [
    "plt.figure(figsize=(6,6))\n",
    "plt.hist(df[\"avg likes\"])\n",
    "plt.title(\"DISTRIBUTION OF AVG LIKES\")\n",
    "plt.show()"
   ]
  },
  {
   "cell_type": "code",
   "execution_count": 32,
   "id": "6f8a8ace",
   "metadata": {},
   "outputs": [],
   "source": [
    "## Filling it with mean won't be a proper idea so fill null with median."
   ]
  },
  {
   "cell_type": "code",
   "execution_count": 33,
   "id": "2b9e6e1d",
   "metadata": {},
   "outputs": [],
   "source": [
    "df[\"avg likes\"]=df[\"avg likes\"].fillna(df[\"avg likes\"].median())"
   ]
  },
  {
   "cell_type": "code",
   "execution_count": 34,
   "id": "b93256c9",
   "metadata": {},
   "outputs": [
    {
     "name": "stdout",
     "output_type": "stream",
     "text": [
      "<class 'pandas.core.frame.DataFrame'>\n",
      "RangeIndex: 1000 entries, 0 to 999\n",
      "Data columns (total 8 columns):\n",
      " #   Column            Non-Null Count  Dtype  \n",
      "---  ------            --------------  -----  \n",
      " 0   youtuber name     1000 non-null   object \n",
      " 1   channel name      1000 non-null   object \n",
      " 2   Category          1000 non-null   object \n",
      " 3   Subscribers       1000 non-null   int64  \n",
      " 4   Audience Country  1000 non-null   object \n",
      " 5   avg views         1000 non-null   int64  \n",
      " 6   avg likes         1000 non-null   float64\n",
      " 7   avg comments      791 non-null    float64\n",
      "dtypes: float64(2), int64(2), object(4)\n",
      "memory usage: 62.6+ KB\n"
     ]
    }
   ],
   "source": [
    "df.info()"
   ]
  },
  {
   "cell_type": "code",
   "execution_count": 35,
   "id": "4ca6ef10",
   "metadata": {},
   "outputs": [
    {
     "data": {
      "image/png": "[encoded data removed]",
      "text/plain": [
       "<Figure size 600x600 with 1 Axes>"
      ]
     },
     "metadata": {},
     "output_type": "display_data"
    }
   ],
   "source": [
    "plt.figure(figsize=(6,6))\n",
    "plt.hist(df[\"avg comments\"])\n",
    "plt.title(\"DISTRIBUTION OF AVG COMMENTS\")\n",
    "plt.show()"
   ]
  },
  {
   "cell_type": "code",
   "execution_count": 36,
   "id": "7a0b4741",
   "metadata": {},
   "outputs": [],
   "source": [
    "## So filling null with mean won't be a proper idea so fill null with median for avg comments too."
   ]
  },
  {
   "cell_type": "code",
   "execution_count": 42,
   "id": "89fca72a",
   "metadata": {},
   "outputs": [],
   "source": [
    "df[\"avg comments\"]=df[\"avg comments\"].fillna(df[\"avg comments\"].median())"
   ]
  },
  {
   "cell_type": "code",
   "execution_count": 43,
   "id": "1e06fd17",
   "metadata": {},
   "outputs": [
    {
     "name": "stdout",
     "output_type": "stream",
     "text": [
      "<class 'pandas.core.frame.DataFrame'>\n",
      "RangeIndex: 1000 entries, 0 to 999\n",
      "Data columns (total 8 columns):\n",
      " #   Column            Non-Null Count  Dtype  \n",
      "---  ------            --------------  -----  \n",
      " 0   youtuber name     1000 non-null   object \n",
      " 1   channel name      1000 non-null   object \n",
      " 2   Category          1000 non-null   object \n",
      " 3   Subscribers       1000 non-null   int64  \n",
      " 4   Audience Country  1000 non-null   object \n",
      " 5   avg views         1000 non-null   int64  \n",
      " 6   avg likes         1000 non-null   float64\n",
      " 7   avg comments      1000 non-null   float64\n",
      "dtypes: float64(2), int64(2), object(4)\n",
      "memory usage: 62.6+ KB\n"
     ]
    }
   ],
   "source": [
    "df.info()"
   ]
  },
  {
   "cell_type": "markdown",
   "id": "50a38086",
   "metadata": {},
   "source": [
    "#                      Data Visualization"
   ]
  },
  {
   "cell_type": "markdown",
   "id": "29582c19",
   "metadata": {},
   "source": [
    "#               1) Heat map\n"
   ]
  },
  {
   "cell_type": "code",
   "execution_count": 39,
   "id": "253d1956",
   "metadata": {},
   "outputs": [
    {
     "data": {
      "image/png": "[encoded data removed]",
      "text/plain": [
       "<Figure size 500x600 with 2 Axes>"
      ]
     },
     "metadata": {},
     "output_type": "display_data"
    }
   ],
   "source": [
    "plt.figure(figsize=(5,6),dpi=100)\n",
    "sns.heatmap(df.corr(),annot=True,cmap=\"plasma\")\n",
    "plt.title=('Youtube Report')\n",
    "plt.show()"
   ]
  },
  {
   "cell_type": "code",
   "execution_count": 40,
   "id": "06d7f78f",
   "metadata": {},
   "outputs": [],
   "source": [
    "## We can say that views and likes are directly proportional also comments and likes have positive releation too from the heatmap."
   ]
  },
  {
   "cell_type": "markdown",
   "id": "fce87249",
   "metadata": {},
   "source": [
    "#                 2) Count Plot"
   ]
  },
  {
   "cell_type": "code",
   "execution_count": 69,
   "id": "6e09ff20",
   "metadata": {},
   "outputs": [
    {
     "ename": "TypeError",
     "evalue": "'str' object is not callable",
     "output_type": "error",
     "traceback": [
      "\u001b[1;31m---------------------------------------------------------------------------\u001b[0m",
      "\u001b[1;31mTypeError\u001b[0m                                 Traceback (most recent call last)",
      "Input \u001b[1;32mIn [69]\u001b[0m, in \u001b[0;36m<cell line: 3>\u001b[1;34m()\u001b[0m\n\u001b[0;32m      1\u001b[0m sns\u001b[38;5;241m.\u001b[39mcountplot(x\u001b[38;5;241m=\u001b[39m\u001b[38;5;124m'\u001b[39m\u001b[38;5;124mAudience Country\u001b[39m\u001b[38;5;124m'\u001b[39m, data\u001b[38;5;241m=\u001b[39mdf)\n\u001b[0;32m      2\u001b[0m plt\u001b[38;5;241m.\u001b[39mxticks(rotation\u001b[38;5;241m=\u001b[39m\u001b[38;5;241m90\u001b[39m)\n\u001b[1;32m----> 3\u001b[0m \u001b[43mplt\u001b[49m\u001b[38;5;241;43m.\u001b[39;49m\u001b[43mtitle\u001b[49m\u001b[43m(\u001b[49m\u001b[38;5;124;43m'\u001b[39;49m\u001b[38;5;124;43mActive Countries\u001b[39;49m\u001b[38;5;124;43m'\u001b[39;49m\u001b[43m)\u001b[49m\n\u001b[0;32m      4\u001b[0m plt\u001b[38;5;241m.\u001b[39mshow()\n",
      "\u001b[1;31mTypeError\u001b[0m: 'str' object is not callable"
     ]
    },
    {
     "data": {
      "image/png": "[encoded data removed]",
      "text/plain": [
       "<Figure size 640x480 with 1 Axes>"
      ]
     },
     "metadata": {},
     "output_type": "display_data"
    }
   ],
   "source": [
    "sns.countplot(x='Audience Country', data=df)\n",
    "plt.xticks(rotation=90)\n",
    "plt.title('Active Countries')\n",
    "plt.show()"
   ]
  },
  {
   "cell_type": "code",
   "execution_count": 70,
   "id": "0bf9bf92",
   "metadata": {},
   "outputs": [],
   "source": [
    "##  Most active countries for their respective channel are from US (1) and INDIA (2) "
   ]
  },
  {
   "cell_type": "markdown",
   "id": "db62e428",
   "metadata": {},
   "source": [
    "#          3) Pie chart"
   ]
  },
  {
   "cell_type": "code",
   "execution_count": 71,
   "id": "e49eaccf",
   "metadata": {},
   "outputs": [
    {
     "data": {
      "text/html": [
       "<div>\n",
       "<style scoped>\n",
       "    .dataframe tbody tr th:only-of-type {\n",
       "        vertical-align: middle;\n",
       "    }\n",
       "\n",
       "    .dataframe tbody tr th {\n",
       "        vertical-align: top;\n",
       "    }\n",
       "\n",
       "    .dataframe thead th {\n",
       "        text-align: right;\n",
       "    }\n",
       "</style>\n",
       "<table border=\"1\" class=\"dataframe\">\n",
       "  <thead>\n",
       "    <tr style=\"text-align: right;\">\n",
       "      <th></th>\n",
       "      <th>youtuber name</th>\n",
       "      <th>channel name</th>\n",
       "      <th>Category</th>\n",
       "      <th>Subscribers</th>\n",
       "      <th>Audience Country</th>\n",
       "      <th>avg views</th>\n",
       "      <th>avg likes</th>\n",
       "      <th>avg comments</th>\n",
       "    </tr>\n",
       "  </thead>\n",
       "  <tbody>\n",
       "    <tr>\n",
       "      <th>0</th>\n",
       "      <td>tseries</td>\n",
       "      <td>T-Series</td>\n",
       "      <td>Music &amp; Dance</td>\n",
       "      <td>212100000</td>\n",
       "      <td>India</td>\n",
       "      <td>323700</td>\n",
       "      <td>9800.0</td>\n",
       "      <td>290.0</td>\n",
       "    </tr>\n",
       "    <tr>\n",
       "      <th>1</th>\n",
       "      <td>checkgate</td>\n",
       "      <td>Cocomelon - Nursery Rhymes</td>\n",
       "      <td>Education</td>\n",
       "      <td>132100000</td>\n",
       "      <td>unknown</td>\n",
       "      <td>13800000</td>\n",
       "      <td>80900.0</td>\n",
       "      <td>336.0</td>\n",
       "    </tr>\n",
       "    <tr>\n",
       "      <th>2</th>\n",
       "      <td>setindia</td>\n",
       "      <td>SET India</td>\n",
       "      <td>unknown</td>\n",
       "      <td>130400000</td>\n",
       "      <td>India</td>\n",
       "      <td>23600</td>\n",
       "      <td>314.0</td>\n",
       "      <td>21.0</td>\n",
       "    </tr>\n",
       "    <tr>\n",
       "      <th>3</th>\n",
       "      <td>PewDiePie</td>\n",
       "      <td>PewDiePie</td>\n",
       "      <td>Animation</td>\n",
       "      <td>111400000</td>\n",
       "      <td>United States</td>\n",
       "      <td>1400000</td>\n",
       "      <td>80800.0</td>\n",
       "      <td>4600.0</td>\n",
       "    </tr>\n",
       "    <tr>\n",
       "      <th>4</th>\n",
       "      <td>MrBeast6000</td>\n",
       "      <td>MrBeast</td>\n",
       "      <td>Video games</td>\n",
       "      <td>92500000</td>\n",
       "      <td>United States</td>\n",
       "      <td>30600000</td>\n",
       "      <td>1700000.0</td>\n",
       "      <td>67700.0</td>\n",
       "    </tr>\n",
       "  </tbody>\n",
       "</table>\n",
       "</div>"
      ],
      "text/plain": [
       "  youtuber name                channel name       Category  Subscribers  \\\n",
       "0       tseries                    T-Series  Music & Dance    212100000   \n",
       "1     checkgate  Cocomelon - Nursery Rhymes      Education    132100000   \n",
       "2      setindia                   SET India        unknown    130400000   \n",
       "3     PewDiePie                   PewDiePie      Animation    111400000   \n",
       "4   MrBeast6000                     MrBeast    Video games     92500000   \n",
       "\n",
       "  Audience Country  avg views  avg likes  avg comments  \n",
       "0            India     323700     9800.0         290.0  \n",
       "1          unknown   13800000    80900.0         336.0  \n",
       "2            India      23600      314.0          21.0  \n",
       "3    United States    1400000    80800.0        4600.0  \n",
       "4    United States   30600000  1700000.0       67700.0  "
      ]
     },
     "execution_count": 71,
     "metadata": {},
     "output_type": "execute_result"
    }
   ],
   "source": [
    "df.head()"
   ]
  },
  {
   "cell_type": "code",
   "execution_count": 72,
   "id": "e915f3b6",
   "metadata": {},
   "outputs": [
    {
     "ename": "TypeError",
     "evalue": "'str' object is not callable",
     "output_type": "error",
     "traceback": [
      "\u001b[1;31m---------------------------------------------------------------------------\u001b[0m",
      "\u001b[1;31mTypeError\u001b[0m                                 Traceback (most recent call last)",
      "Input \u001b[1;32mIn [72]\u001b[0m, in \u001b[0;36m<cell line: 5>\u001b[1;34m()\u001b[0m\n\u001b[0;32m      3\u001b[0m plt\u001b[38;5;241m.\u001b[39mpie(df[\u001b[38;5;124m\"\u001b[39m\u001b[38;5;124mSubscribers\u001b[39m\u001b[38;5;124m\"\u001b[39m]\u001b[38;5;241m.\u001b[39mhead(),labels\u001b[38;5;241m=\u001b[39mdf[\u001b[38;5;124m\"\u001b[39m\u001b[38;5;124myoutuber name\u001b[39m\u001b[38;5;124m\"\u001b[39m]\u001b[38;5;241m.\u001b[39mhead(),explode \u001b[38;5;241m=\u001b[39m explode,radius\u001b[38;5;241m=\u001b[39m\u001b[38;5;241m0.6\u001b[39m,autopct \u001b[38;5;241m=\u001b[39m \u001b[38;5;124m'\u001b[39m\u001b[38;5;124m%\u001b[39m\u001b[38;5;124m1.f\u001b[39m\u001b[38;5;132;01m%%\u001b[39;00m\u001b[38;5;124m'\u001b[39m,startangle\u001b[38;5;241m=\u001b[39m\u001b[38;5;241m120\u001b[39m)\n\u001b[0;32m      4\u001b[0m plt\u001b[38;5;241m.\u001b[39mlegend(loc\u001b[38;5;241m=\u001b[39m\u001b[38;5;241m0\u001b[39m)\n\u001b[1;32m----> 5\u001b[0m \u001b[43mplt\u001b[49m\u001b[38;5;241;43m.\u001b[39;49m\u001b[43mtitle\u001b[49m\u001b[43m(\u001b[49m\u001b[38;5;124;43m\"\u001b[39;49m\u001b[38;5;124;43mCreators\u001b[39;49m\u001b[38;5;124;43m\"\u001b[39;49m\u001b[43m)\u001b[49m\n\u001b[0;32m      6\u001b[0m plt\u001b[38;5;241m.\u001b[39mshow()\n",
      "\u001b[1;31mTypeError\u001b[0m: 'str' object is not callable"
     ]
    },
    {
     "data": {
      "image/png": "[encoded data removed]",
      "text/plain": [
       "<Figure size 600x600 with 1 Axes>"
      ]
     },
     "metadata": {},
     "output_type": "display_data"
    }
   ],
   "source": [
    "plt.figure(dpi=100,figsize=(6,6))\n",
    "explode = [0.1, 0, 0, 0,0] \n",
    "plt.pie(df[\"Subscribers\"].head(),labels=df[\"youtuber name\"].head(),explode = explode,radius=0.6,autopct = '%1.f%%',startangle=120)\n",
    "plt.legend(loc=0)\n",
    "plt.title(\"Creators\")\n",
    "plt.show()"
   ]
  },
  {
   "cell_type": "code",
   "execution_count": 73,
   "id": "6d888768",
   "metadata": {},
   "outputs": [],
   "source": [
    "## tseries have highest subscribers in millions compared to other youtubers."
   ]
  },
  {
   "cell_type": "code",
   "execution_count": null,
   "id": "d62ef52f",
   "metadata": {},
   "outputs": [],
   "source": []
  }
 ],
 "metadata": {
  "kernelspec": {
   "display_name": "Python 3 (ipykernel)",
   "language": "python",
   "name": "python3"
  },
  "language_info": {
   "codemirror_mode": {
    "name": "ipython",
    "version": 3
   },
   "file_extension": ".py",
   "mimetype": "text/x-python",
   "name": "python",
   "nbconvert_exporter": "python",
   "pygments_lexer": "ipython3",
   "version": "3.9.13"
  }
 },
 "nbformat": 4,
 "nbformat_minor": 5
}
